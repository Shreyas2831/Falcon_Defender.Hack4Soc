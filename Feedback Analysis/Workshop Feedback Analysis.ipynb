{
 "cells": [
  {
   "cell_type": "code",
   "execution_count": null,
   "id": "25582eaa",
   "metadata": {},
   "outputs": [],
   "source": [
    "import numpy as np #used for creating and manipulating arrays.\n",
    "import pandas as pd #used for creating Series and DataFrames\n",
    "import matplotlib.pyplot as plt #used for data visualization\n",
    "import seaborn as sns #used for data visualization\n",
    "import warnings\n",
    "warnings.filterwarnings('ignore')"
   ]
  },
  {
   "cell_type": "code",
   "execution_count": null,
   "id": "959f51aa",
   "metadata": {},
   "outputs": [],
   "source": [
    "df = pd.read_csv('out_prog.csv')\n",
    "df.head()"
   ]
  },
  {
   "cell_type": "code",
   "execution_count": null,
   "id": "ed9bfa9e",
   "metadata": {},
   "outputs": [],
   "source": [
    "df_1 = pd.read_csv('out_prog_1.csv')"
   ]
  },
  {
   "cell_type": "code",
   "execution_count": null,
   "id": "33879846",
   "metadata": {},
   "outputs": [],
   "source": [
    "df.shape"
   ]
  },
  {
   "cell_type": "code",
   "execution_count": null,
   "id": "4d34033c",
   "metadata": {
    "scrolled": true
   },
   "outputs": [],
   "source": [
    "#let's check the info of the dataset\n",
    "df.info()"
   ]
  },
  {
   "cell_type": "markdown",
   "id": "e222ae8e",
   "metadata": {},
   "source": [
    "# Numerical and Categorical Column Divison"
   ]
  },
  {
   "cell_type": "code",
   "execution_count": null,
   "id": "25865c8e",
   "metadata": {},
   "outputs": [],
   "source": [
    "numeric_cols=df._get_numeric_data().columns\n",
    "numeric_cols"
   ]
  },
  {
   "cell_type": "code",
   "execution_count": null,
   "id": "c5e56ff3",
   "metadata": {},
   "outputs": [],
   "source": [
    "categorical_cols=df.drop(columns=numeric_cols).columns\n",
    "categorical_cols"
   ]
  },
  {
   "cell_type": "markdown",
   "id": "90f99ec8",
   "metadata": {},
   "source": [
    "# Descriptive Analysis"
   ]
  },
  {
   "cell_type": "code",
   "execution_count": null,
   "id": "8c022b3e",
   "metadata": {},
   "outputs": [],
   "source": [
    "df['Gender'].value_counts().plot(kind='pie',figsize=(10,5),autopct='%1.1f%%')"
   ]
  },
  {
   "cell_type": "code",
   "execution_count": null,
   "id": "b8187006",
   "metadata": {},
   "outputs": [],
   "source": [
    "df['Which part of the session you enjoyed the most?'].value_counts().plot(kind='barh',figsize=(10,7), color='green')\n",
    "plt.xlabel('Which part of the session you enjoyed the most?')"
   ]
  },
  {
   "cell_type": "code",
   "execution_count": null,
   "id": "71f497fa",
   "metadata": {},
   "outputs": [],
   "source": [
    "df['Which part of the session you enjoyed the least?'].value_counts().plot(kind='barh', figsize=(10,5) ,color='red')\n",
    "plt.xlabel('Which part of the session you enjoyed the least?')"
   ]
  },
  {
   "cell_type": "code",
   "execution_count": null,
   "id": "a511443b",
   "metadata": {},
   "outputs": [],
   "source": [
    "# performing Label Encoding for categorical columns from 1 to 9\n",
    "from sklearn.preprocessing import LabelEncoder"
   ]
  },
  {
   "cell_type": "code",
   "execution_count": null,
   "id": "abf75fca",
   "metadata": {
    "scrolled": true
   },
   "outputs": [],
   "source": [
    "df_cat = df_1.iloc[:,0:9]\n",
    "df_cat.head()"
   ]
  },
  {
   "cell_type": "code",
   "execution_count": null,
   "id": "9458665f",
   "metadata": {},
   "outputs": [],
   "source": [
    "def labelling(x):\n",
    "    df_1[x] = LabelEncoder().fit_transform(df_1[x])\n",
    "    return df_1\n",
    "\n",
    "df_cat = df_1.iloc[:,0:9]\n",
    "for i in df_cat:\n",
    "    labelling(i)\n",
    "    \n",
    "df_1.head()"
   ]
  },
  {
   "cell_type": "code",
   "execution_count": null,
   "id": "4ebab6cc",
   "metadata": {},
   "outputs": [],
   "source": [
    "df_cat.head()"
   ]
  },
  {
   "cell_type": "code",
   "execution_count": null,
   "id": "3f42ecd1",
   "metadata": {},
   "outputs": [],
   "source": [
    "plt.figure(figsize=(15,8))\n",
    "sns.heatmap(df.corr())\n",
    "plt.show()"
   ]
  },
  {
   "cell_type": "code",
   "execution_count": null,
   "id": "6905752b",
   "metadata": {},
   "outputs": [],
   "source": [
    "plt.figure(figsize=(15,8))\n",
    "plt.hist(df['Are you more aware and confident about your career choices as well as decision making now?'],edgecolor='black')\n",
    "plt.xlabel('Age')\n",
    "plt.ylabel('Number of Student')"
   ]
  },
  {
   "cell_type": "code",
   "execution_count": null,
   "id": "e2027fbd",
   "metadata": {},
   "outputs": [],
   "source": [
    "plt.rcParams['figure.figsize'] = (12,14)\n",
    "df_1.hist()"
   ]
  },
  {
   "cell_type": "code",
   "execution_count": null,
   "id": "eb11a188",
   "metadata": {
    "scrolled": false
   },
   "outputs": [],
   "source": [
    "# converting 11 categorical columns into array\n",
    "x = df_1.values\n",
    "x"
   ]
  },
  {
   "cell_type": "code",
   "execution_count": null,
   "id": "b4a224ab",
   "metadata": {},
   "outputs": [],
   "source": [
    "# calculating mean of 11 columns\n",
    "round(df.iloc[:,0:11].mean(),2)"
   ]
  },
  {
   "cell_type": "markdown",
   "id": "80e976c5",
   "metadata": {},
   "source": [
    "# Principal Component Analysis"
   ]
  },
  {
   "cell_type": "code",
   "execution_count": null,
   "id": "09ce3be4",
   "metadata": {},
   "outputs": [],
   "source": [
    "from sklearn.decomposition import PCA\n",
    "from sklearn import preprocessing"
   ]
  },
  {
   "cell_type": "code",
   "execution_count": null,
   "id": "9817346b",
   "metadata": {},
   "outputs": [],
   "source": [
    "pca_data = preprocessing.scale(x)"
   ]
  },
  {
   "cell_type": "code",
   "execution_count": null,
   "id": "911eb3a2",
   "metadata": {},
   "outputs": [],
   "source": [
    "pca = PCA(n_components=8)\n",
    "pc = pca.fit_transform(x)\n",
    "print(pc)"
   ]
  },
  {
   "cell_type": "code",
   "execution_count": null,
   "id": "f27d40e6",
   "metadata": {},
   "outputs": [],
   "source": [
    "# Inserting pc into a dataFrame\n",
    "colnames = ['PC1','PC2','PC3','PC4','PC5','PC6','PC7','PC8']\n",
    "df_pc = pd.DataFrame(data = pc, columns=colnames)\n",
    "df_pc.head()"
   ]
  },
  {
   "cell_type": "code",
   "execution_count": null,
   "id": "5004aeef",
   "metadata": {},
   "outputs": [],
   "source": [
    "df_pc.describe()"
   ]
  },
  {
   "cell_type": "code",
   "execution_count": null,
   "id": "72383c03",
   "metadata": {},
   "outputs": [],
   "source": [
    "pca_variance = pca.explained_variance_ratio_\n",
    "pca_variance"
   ]
  },
  {
   "cell_type": "code",
   "execution_count": null,
   "id": "16d8728c",
   "metadata": {},
   "outputs": [],
   "source": [
    "np.cumsum(pca_variance)"
   ]
  },
  {
   "cell_type": "code",
   "execution_count": null,
   "id": "d1b6a7a6",
   "metadata": {},
   "outputs": [],
   "source": [
    "from bioinfokit.visuz import cluster"
   ]
  },
  {
   "cell_type": "code",
   "execution_count": null,
   "id": "1fa531f1",
   "metadata": {},
   "outputs": [],
   "source": [
    "# get PC scores\n",
    "pca_scores = PCA().fit_transform(x)"
   ]
  },
  {
   "cell_type": "code",
   "execution_count": null,
   "id": "0b56beec",
   "metadata": {},
   "outputs": [],
   "source": [
    "# get 2D biplot\n",
    "cluster.biplot(cscore=pca_scores, loadings=pca.components_, labels=df.columns.values, var1=round(pca.explained_variance_ratio_[0]*100, 2),\n",
    "    var2=round(pca.explained_variance_ratio_[1]*100, 2),show=True,dim=(10,5))"
   ]
  },
  {
   "cell_type": "code",
   "execution_count": null,
   "id": "e19baba3",
   "metadata": {},
   "outputs": [],
   "source": [
    "# K-means\n",
    "from sklearn.cluster import KMeans"
   ]
  },
  {
   "cell_type": "code",
   "execution_count": null,
   "id": "c292d2ae",
   "metadata": {},
   "outputs": [],
   "source": [
    "kmeans = KMeans(n_clusters=4, init='k-means++', random_state=0).fit(df_1)\n",
    "df['Do you have better clarity now on your next steps than before the program?'] = kmeans.labels_#adding to df\n",
    "print ('Labels to input data :', kmeans.labels_) #Label assigned for each data point\n",
    "print ('kMeans Inertia :',kmeans.inertia_) #gives within-cluster sum of squares. \n",
    "print('No. of iterations :', kmeans.n_iter_) #number of iterations that k-means algorithm runs to get a minimum within-cluster sum of squares\n",
    "print('Centriods Location:\\n', kmeans.cluster_centers_) #Location of the centroids on each cluster. "
   ]
  },
  {
   "cell_type": "code",
   "execution_count": null,
   "id": "255ee6ad",
   "metadata": {},
   "outputs": [],
   "source": [
    "df['Do you have better clarity now on your next steps than before the program?'].value_counts()"
   ]
  },
  {
   "cell_type": "code",
   "execution_count": null,
   "id": "3f5d09ab",
   "metadata": {},
   "outputs": [],
   "source": [
    "from collections import Counter"
   ]
  },
  {
   "cell_type": "code",
   "execution_count": null,
   "id": "ba8bd79a",
   "metadata": {},
   "outputs": [],
   "source": [
    "#To see each cluster size\n",
    "Counter(kmeans.labels_)"
   ]
  },
  {
   "cell_type": "code",
   "execution_count": null,
   "id": "de0d808c",
   "metadata": {},
   "outputs": [],
   "source": [
    "#Visulazing clusters\n",
    "sns.scatterplot(data=df_pc, x=\"PC1\", y=\"PC2\", hue=kmeans.labels_)\n",
    "plt.scatter(kmeans.cluster_centers_[:,0], kmeans.cluster_centers_[:,1], \n",
    "            marker=\"X\", c=\"r\", s=80, label=\"centroids\")\n",
    "plt.legend()\n",
    "plt.show()"
   ]
  },
  {
   "cell_type": "code",
   "execution_count": null,
   "id": "3833a0ed",
   "metadata": {},
   "outputs": [],
   "source": [
    "from scipy.cluster.hierarchy import linkage, dendrogram"
   ]
  },
  {
   "cell_type": "code",
   "execution_count": null,
   "id": "42168c7f",
   "metadata": {},
   "outputs": [],
   "source": [
    "#create demogram and find the best clustering value\n",
    "merg = linkage(df_1, method='ward')\n",
    "plt.rcParams['figure.figsize'] = (7,5)\n",
    "dendrogram(merg,leaf_rotation = 90)\n",
    "plt.xlabel(\"data points\", fontsize = 15)\n",
    "plt.ylabel(\"euclidean distance\", fontsize=15)\n",
    "plt.show()"
   ]
  },
  {
   "cell_type": "markdown",
   "id": "7d7c8e0c",
   "metadata": {},
   "source": [
    "# Describing Segments"
   ]
  },
  {
   "cell_type": "code",
   "execution_count": null,
   "id": "c8984cc5",
   "metadata": {},
   "outputs": [],
   "source": [
    "from statsmodels.graphics.mosaicplot import mosaic\n",
    "from itertools import product"
   ]
  },
  {
   "cell_type": "code",
   "execution_count": null,
   "id": "4f8947eb",
   "metadata": {},
   "outputs": [],
   "source": [
    "#Reordering cols\n",
    "crosstab =pd.crosstab(df['Do you have better clarity now on your next steps than before the program?'],df['Which part of the session you enjoyed the least?'])\n",
    "crosstab "
   ]
  },
  {
   "cell_type": "code",
   "execution_count": null,
   "id": "04307b97",
   "metadata": {},
   "outputs": [],
   "source": [
    "plt.rcParams['figure.figsize'] = (15,10)\n",
    "mosaic(crosstab.stack())\n",
    "plt.show()"
   ]
  },
  {
   "cell_type": "code",
   "execution_count": null,
   "id": "b0165bdd",
   "metadata": {},
   "outputs": [],
   "source": [
    "#Mosaic plot gender vs segment\n",
    "crosstab_gender =pd.crosstab(df['Do you have better clarity now on your next steps than before the program?'],df['Gender'])\n",
    "crosstab_gender"
   ]
  },
  {
   "cell_type": "code",
   "execution_count": null,
   "id": "145b98f4",
   "metadata": {},
   "outputs": [],
   "source": [
    "plt.rcParams['figure.figsize'] = (7,5)\n",
    "mosaic(crosstab_gender.stack())\n",
    "plt.show()"
   ]
  },
  {
   "cell_type": "code",
   "execution_count": null,
   "id": "1fadd302",
   "metadata": {},
   "outputs": [],
   "source": [
    "#box plot for age\n",
    "sns.boxplot(x=\"Do you have better clarity now on your next steps than before the program?\", y=\"Age\", data=df)"
   ]
  },
  {
   "cell_type": "code",
   "execution_count": null,
   "id": "14165425",
   "metadata": {},
   "outputs": [],
   "source": [
    "df_1.head()"
   ]
  },
  {
   "cell_type": "markdown",
   "id": "b20f3151",
   "metadata": {},
   "source": [
    "# Selecting The Target"
   ]
  },
  {
   "cell_type": "code",
   "execution_count": null,
   "id": "3c6aa1f7",
   "metadata": {},
   "outputs": [],
   "source": [
    "#Calculating the mean\n",
    "df['Which part of the session you enjoyed the least?'] = LabelEncoder().fit_transform(df['Which part of the session you enjoyed the least?'])\n",
    "visit = df.groupby('Do you have better clarity now on your next steps than before the program?')['Which part of the session you enjoyed the least?'].mean()\n",
    "visit = visit.to_frame().reset_index()\n",
    "visit"
   ]
  },
  {
   "cell_type": "code",
   "execution_count": null,
   "id": "6b74db98",
   "metadata": {},
   "outputs": [],
   "source": [
    "#Like\n",
    "df['Which part of the session you enjoyed the most?'] = LabelEncoder().fit_transform(df['Which part of the session you enjoyed the most?'])\n",
    "Like = df.groupby('Do you have better clarity now on your next steps than before the program?')['Which part of the session you enjoyed the most?'].mean()\n",
    "Like = Like.to_frame().reset_index()\n",
    "Like"
   ]
  },
  {
   "cell_type": "code",
   "execution_count": null,
   "id": "fdd601d8",
   "metadata": {},
   "outputs": [],
   "source": [
    "#Gender\n",
    "df['Gender'] = LabelEncoder().fit_transform(df['Gender'])\n",
    "Gender = df.groupby('Do you have better clarity now on your next steps than before the program?')['Gender'].mean()\n",
    "Gender = Gender.to_frame().reset_index()\n",
    "Gender"
   ]
  },
  {
   "cell_type": "code",
   "execution_count": null,
   "id": "2bb52886",
   "metadata": {},
   "outputs": [],
   "source": [
    "segment = Gender.merge(Like, on='Do you have better clarity now on your next steps than before the program?', how='left').merge(visit, on='Do you have better clarity now on your next steps than before the program?', how='left')\n",
    "segment"
   ]
  },
  {
   "cell_type": "code",
   "execution_count": null,
   "id": "fa2fe330",
   "metadata": {},
   "outputs": [],
   "source": [
    "#Target segments\n",
    "plt.rcParams['figure.figsize'] = (7,5)\n",
    "sns.scatterplot(x = \"Which part of the session you enjoyed the least?\", y = \"Which part of the session you enjoyed the most?\",data=segment,s=400, color=\"r\")\n",
    "plt.title(\"Simple segment evaluation plot for the feedback evaluation \\n\",fontsize = 15) \n",
    "plt.xlabel(\"Like\", fontsize = 15) \n",
    "plt.ylabel(\"Need Improvement\", fontsize = 15) \n",
    "plt.show()"
   ]
  },
  {
   "cell_type": "code",
   "execution_count": null,
   "id": "d4087604",
   "metadata": {},
   "outputs": [],
   "source": []
  }
 ],
 "metadata": {
  "kernelspec": {
   "display_name": "Python 3 (ipykernel)",
   "language": "python",
   "name": "python3"
  },
  "language_info": {
   "codemirror_mode": {
    "name": "ipython",
    "version": 3
   },
   "file_extension": ".py",
   "mimetype": "text/x-python",
   "name": "python",
   "nbconvert_exporter": "python",
   "pygments_lexer": "ipython3",
   "version": "3.9.7"
  }
 },
 "nbformat": 4,
 "nbformat_minor": 5
}
