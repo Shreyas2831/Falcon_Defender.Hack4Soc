{
 "cells": [
  {
   "cell_type": "markdown",
   "id": "2184f7cf",
   "metadata": {},
   "source": [
    "# Getting Google Form Data to Dataframe Using API"
   ]
  },
  {
   "cell_type": "code",
   "execution_count": null,
   "id": "f91b8c4e",
   "metadata": {},
   "outputs": [],
   "source": [
    "from pydrive.auth import GoogleAuth\n",
    "from pydrive.drive import GoogleDrive\n",
    "import pandas as pd\n",
    "import seaborn as sns"
   ]
  },
  {
   "cell_type": "code",
   "execution_count": null,
   "id": "3e3ce9bf",
   "metadata": {},
   "outputs": [],
   "source": [
    "# Initializing a GoogleAuth Object\n",
    "gauth = GoogleAuth()"
   ]
  },
  {
   "cell_type": "code",
   "execution_count": null,
   "id": "3dc7aa13",
   "metadata": {},
   "outputs": [],
   "source": [
    "# client_secrets.json file is verified\n",
    "# and it automatically handles authentication\n",
    "gauth.LocalWebserverAuth()"
   ]
  },
  {
   "cell_type": "code",
   "execution_count": null,
   "id": "7bed9bdc",
   "metadata": {},
   "outputs": [],
   "source": [
    "# GoogleDrive Instance is created using\n",
    "# authenticated GoogleAuth instance\n",
    "drive = GoogleDrive(gauth)"
   ]
  },
  {
   "cell_type": "code",
   "execution_count": null,
   "id": "bfc2cebf",
   "metadata": {},
   "outputs": [],
   "source": [
    "# Initialize GoogleDriveFile instance with file id\n",
    "file_obj = drive.CreateFile({'id': '1JHBycKFGgleQmh9wKElpgeeyGO_5RCeqzkwVs326dGE'})"
   ]
  },
  {
   "cell_type": "code",
   "execution_count": null,
   "id": "0cf8d0cd",
   "metadata": {},
   "outputs": [],
   "source": [
    "file_obj.GetContentFile('Dreampath Workshop Feedback (Responses).xls',\n",
    "         mimetype='application/vnd.openxmlformats-officedocument.spreadsheetml.sheet')"
   ]
  },
  {
   "cell_type": "code",
   "execution_count": null,
   "id": "819ee2ce",
   "metadata": {},
   "outputs": [],
   "source": [
    "dataframe = pd.read_excel('Dreampath Workshop Feedback (Responses).xls')"
   ]
  },
  {
   "cell_type": "code",
   "execution_count": null,
   "id": "e0899190",
   "metadata": {},
   "outputs": [],
   "source": [
    "print(dataframe)"
   ]
  },
  {
   "cell_type": "code",
   "execution_count": null,
   "id": "ac40b973",
   "metadata": {},
   "outputs": [],
   "source": [
    "#remove empty spaces\n",
    "new_df = dataframe.dropna()\n",
    "new_df.head()"
   ]
  },
  {
   "cell_type": "code",
   "execution_count": null,
   "id": "7f375e4b",
   "metadata": {},
   "outputs": [],
   "source": [
    "new_df.to_csv('out_prog.csv')"
   ]
  },
  {
   "cell_type": "code",
   "execution_count": null,
   "id": "db24de1b",
   "metadata": {},
   "outputs": [],
   "source": [
    "new_df1 = new_df.dropna()"
   ]
  },
  {
   "cell_type": "markdown",
   "id": "e38accd0",
   "metadata": {},
   "source": [
    "# Analysis"
   ]
  },
  {
   "cell_type": "code",
   "execution_count": null,
   "id": "0a5f9678",
   "metadata": {},
   "outputs": [],
   "source": [
    "#data for making pie analysis\n",
    "y = (new_df['Was the program good and useful?']).value_counts()"
   ]
  },
  {
   "cell_type": "code",
   "execution_count": null,
   "id": "c3594f50",
   "metadata": {},
   "outputs": [],
   "source": [
    "from matplotlib import pyplot as plt"
   ]
  },
  {
   "cell_type": "code",
   "execution_count": null,
   "id": "eee6bed0",
   "metadata": {},
   "outputs": [],
   "source": [
    "choice = ['Yes','No','Partially']"
   ]
  },
  {
   "cell_type": "code",
   "execution_count": null,
   "id": "bb74eb45",
   "metadata": {},
   "outputs": [],
   "source": [
    "#making of pie chart\n",
    "fig = plt.figure(figsize =(10, 7))\n",
    "plt.pie(y, labels = choice)"
   ]
  },
  {
   "cell_type": "code",
   "execution_count": null,
   "id": "66e15489",
   "metadata": {},
   "outputs": [],
   "source": [
    "y2 = (new_df['Did you understand most of the topics/information shared?']).value_counts()"
   ]
  },
  {
   "cell_type": "code",
   "execution_count": null,
   "id": "ec9fe167",
   "metadata": {},
   "outputs": [],
   "source": [
    "fig = plt.figure(figsize =(10, 7))\n",
    "plt.pie(y2, labels = choice)"
   ]
  },
  {
   "cell_type": "code",
   "execution_count": null,
   "id": "e2183a15",
   "metadata": {},
   "outputs": [],
   "source": [
    "y3 = (new_df['Did you enjoy the activities?']).value_counts()"
   ]
  },
  {
   "cell_type": "code",
   "execution_count": null,
   "id": "a54a44fd",
   "metadata": {},
   "outputs": [],
   "source": [
    "fig = plt.figure(figsize =(10, 7))\n",
    "plt.pie(y3, labels = choice)"
   ]
  },
  {
   "cell_type": "code",
   "execution_count": null,
   "id": "b5d1355a",
   "metadata": {},
   "outputs": [],
   "source": [
    "y4 = (new_df['Has your knowledge increased about different career paths / job opportunities / preparation?']).value_counts()"
   ]
  },
  {
   "cell_type": "code",
   "execution_count": null,
   "id": "29baada3",
   "metadata": {},
   "outputs": [],
   "source": [
    "fig = plt.figure(figsize =(10, 7))\n",
    "plt.pie(y4, labels = choice)"
   ]
  },
  {
   "cell_type": "code",
   "execution_count": null,
   "id": "394c1c04",
   "metadata": {},
   "outputs": [],
   "source": [
    "y5=(new_df['Do you have better clarity now on your next steps than before the program?']).value_counts()"
   ]
  },
  {
   "cell_type": "code",
   "execution_count": null,
   "id": "b1233019",
   "metadata": {},
   "outputs": [],
   "source": [
    "fig = plt.figure(figsize =(10, 7))\n",
    "plt.pie(y5, labels = choice)"
   ]
  },
  {
   "cell_type": "code",
   "execution_count": null,
   "id": "31d66090",
   "metadata": {},
   "outputs": [],
   "source": [
    "y6=(new_df['Do you recommend this program for your juniors / other friends too?']).value_counts()"
   ]
  },
  {
   "cell_type": "code",
   "execution_count": null,
   "id": "f483328a",
   "metadata": {},
   "outputs": [],
   "source": [
    "choice_2 = ['Yes','No']"
   ]
  },
  {
   "cell_type": "code",
   "execution_count": null,
   "id": "9e61bc22",
   "metadata": {},
   "outputs": [],
   "source": [
    "fig = plt.figure(figsize =(10, 7))\n",
    "plt.pie(y6, labels = choice_2)"
   ]
  },
  {
   "cell_type": "code",
   "execution_count": null,
   "id": "1100a9fc",
   "metadata": {},
   "outputs": [],
   "source": []
  }
 ],
 "metadata": {
  "kernelspec": {
   "display_name": "Python 3 (ipykernel)",
   "language": "python",
   "name": "python3"
  },
  "language_info": {
   "codemirror_mode": {
    "name": "ipython",
    "version": 3
   },
   "file_extension": ".py",
   "mimetype": "text/x-python",
   "name": "python",
   "nbconvert_exporter": "python",
   "pygments_lexer": "ipython3",
   "version": "3.9.7"
  }
 },
 "nbformat": 4,
 "nbformat_minor": 5
}
