{
 "cells": [
  {
   "cell_type": "markdown",
   "id": "f83d193c",
   "metadata": {},
   "source": [
    "# Getting Google Form Data to Dataframe Using API"
   ]
  },
  {
   "cell_type": "code",
   "execution_count": null,
   "id": "632ba1df",
   "metadata": {},
   "outputs": [],
   "source": [
    "from pydrive.auth import GoogleAuth\n",
    "from pydrive.drive import GoogleDrive\n",
    "import pandas as pd\n",
    "import schedule\n",
    "import time\n",
    "from email.mime.text import MIMEText\n",
    "from email.mime.image import MIMEImage\n",
    "from email.mime.application import MIMEApplication\n",
    "from email.mime.multipart import MIMEMultipart\n",
    "import smtplib\n",
    "import os"
   ]
  },
  {
   "cell_type": "code",
   "execution_count": null,
   "id": "a9cb1b9d",
   "metadata": {},
   "outputs": [],
   "source": [
    "# Initializing a GoogleAuth Object\n",
    "gauth = GoogleAuth()"
   ]
  },
  {
   "cell_type": "code",
   "execution_count": null,
   "id": "cb37b97d",
   "metadata": {},
   "outputs": [],
   "source": [
    "# client_secrets.json file is verified\n",
    "# and it automatically handles authentication\n",
    "gauth.LocalWebserverAuth()"
   ]
  },
  {
   "cell_type": "code",
   "execution_count": null,
   "id": "f05f286b",
   "metadata": {},
   "outputs": [],
   "source": [
    "# GoogleDrive Instance is created using\n",
    "# authenticated GoogleAuth instance\n",
    "drive = GoogleDrive(gauth)"
   ]
  },
  {
   "cell_type": "code",
   "execution_count": null,
   "id": "34a5df08",
   "metadata": {},
   "outputs": [],
   "source": [
    "# Initialize GoogleDriveFile instance with file id\n",
    "file_obj = drive.CreateFile({'id': '1otxIO1cdOkJ1ks-QvvING8z8p7uypaX0xKtYVjT4ZcM'})"
   ]
  },
  {
   "cell_type": "code",
   "execution_count": null,
   "id": "cfcd3f95",
   "metadata": {},
   "outputs": [],
   "source": [
    "file_obj.GetContentFile('Profile (Responses).xls',\n",
    "         mimetype='application/vnd.openxmlformats-officedocument.spreadsheetml.sheet')"
   ]
  },
  {
   "cell_type": "code",
   "execution_count": null,
   "id": "1a8b663d",
   "metadata": {},
   "outputs": [],
   "source": [
    "dataframe = pd.read_excel('Profile (Responses).xls')"
   ]
  },
  {
   "cell_type": "code",
   "execution_count": null,
   "id": "a2f4d7d0",
   "metadata": {},
   "outputs": [],
   "source": [
    "print(dataframe)"
   ]
  },
  {
   "cell_type": "markdown",
   "id": "a67b0151",
   "metadata": {},
   "source": [
    "## Sending Mailto"
   ]
  },
  {
   "cell_type": "code",
   "execution_count": null,
   "id": "4ce91ba8",
   "metadata": {},
   "outputs": [],
   "source": [
    "Mailto = dataframe.loc[1,'Email ID']"
   ]
  },
  {
   "cell_type": "markdown",
   "id": "262b5c1c",
   "metadata": {},
   "source": [
    "# Sending Mail at Regular Time Interval"
   ]
  },
  {
   "cell_type": "code",
   "execution_count": null,
   "id": "5bc0a523",
   "metadata": {},
   "outputs": [],
   "source": [
    "# send our email message 'msg' to our boss\n",
    "def message(subject=\"Python Notification\",\n",
    "            text=\"\", img=None, attachment=None):\n",
    "    # build message contents\n",
    "    msg = MIMEMultipart()\n",
    "\n",
    "    # Add Subject\n",
    "    msg['Subject'] = subject\n",
    "    \n",
    "    # Add text contents\n",
    "    msg.attach(MIMEText(text))\n",
    "\n",
    "    # Check if we have anything\n",
    "    # given in the img parameter\n",
    "    if img is not None:\n",
    "\n",
    "        # Check whether we have the\n",
    "        # lists of images or not!\n",
    "        if type(img) is not list:\n",
    "            # if it isn't a list, make it one\n",
    "            img = [img]\n",
    "\n",
    "        # Now iterate through our list\n",
    "        for one_img in img:\n",
    "\n",
    "            # read the image binary data\n",
    "            img_data = open(one_img, 'rb').read()\n",
    "\n",
    "            # Attach the image data to MIMEMultipart\n",
    "            # using MIMEImage,\n",
    "            # we add the given filename use os.basename\n",
    "            msg.attach(MIMEImage(img_data,\n",
    "                                 name=os.path.basename(one_img)))\n",
    "\n",
    "    # We do the same for attachments\n",
    "    # as we did for images\n",
    "    if attachment is not None:\n",
    "\n",
    "    # Check whether we have the\n",
    "    # lists of attachments or not!\n",
    "        if type(attachment) is not list:\n",
    "\n",
    "            # if it isn't a list, make it one\n",
    "            attachment = [attachment]\n",
    "\n",
    "        for one_attachment in attachment:\n",
    "\n",
    "            with open(one_attachment, 'rb') as f:\n",
    "\n",
    "                # Read in the attachment using MIMEApplication\n",
    "                file = MIMEApplication(\n",
    "                    f.read(),\n",
    "                    name=os.path.basename(one_attachment)\n",
    "                )\n",
    "            file['Content-Disposition'] = f'attachment;\\\n",
    "            filename=\"{os.path.basename(one_attachment)}\"'\n",
    "\n",
    "            # At last, Add the attachment to our message object\n",
    "            msg.attach(file)\n",
    "    return msg\n",
    "\n",
    "\n",
    "def mail():\n",
    "\n",
    "    # initialize connection to our email server,\n",
    "    # we will use gmail here\n",
    "    smtp = smtplib.SMTP('smtp.gmail.com', 587)\n",
    "    smtp.ehlo()\n",
    "    smtp.starttls()\n",
    "    \n",
    "    # Login with your email and password\n",
    "    smtp.login('shindetanmay73@gmail.com', 'qfrtxhjsjpaphfei')\n",
    "\n",
    "    # Call the message function\n",
    "    msg = message(\"Good!\", \"Hi there!\",\n",
    "                r\"C:\\Users\\shrey\\OneDrive\\Pictures\\TESLA.png\")\n",
    "\n",
    "    # Make a list of emails, where you wanna send mail\n",
    "    to = [Mailto]\n",
    "\n",
    "    # Provide some data to the sendmail function!\n",
    "    smtp.sendmail(from_addr=\"shindetanmay73@gmail.com\",\n",
    "                to_addrs=to, msg=msg.as_string())\n",
    "\n",
    "    # Finally, don't forget to close the connection\n",
    "    smtp.quit()\n",
    "\n",
    "\n",
    "schedule.every(2).seconds.do(mail)\n",
    "#schedule.every(10).minutes.do(mail)\n",
    "#schedule.every().hour.do(mail)\n",
    "#schedule.every().day.at(\"10:30\").do(mail)\n",
    "#schedule.every(5).to(10).minutes.do(mail)\n",
    "#schedule.every().monday.do(mail)\n",
    "#schedule.every().wednesday.at(\"13:15\").do(mail)\n",
    "#schedule.every().minute.at(\":17\").do(mail)\n",
    "\n",
    "while True:\n",
    "    schedule.run_pending()\n",
    "    time.sleep(1)"
   ]
  },
  {
   "cell_type": "code",
   "execution_count": null,
   "id": "0e896e8e",
   "metadata": {},
   "outputs": [],
   "source": []
  }
 ],
 "metadata": {
  "kernelspec": {
   "display_name": "Python 3 (ipykernel)",
   "language": "python",
   "name": "python3"
  },
  "language_info": {
   "codemirror_mode": {
    "name": "ipython",
    "version": 3
   },
   "file_extension": ".py",
   "mimetype": "text/x-python",
   "name": "python",
   "nbconvert_exporter": "python",
   "pygments_lexer": "ipython3",
   "version": "3.9.7"
  }
 },
 "nbformat": 4,
 "nbformat_minor": 5
}
